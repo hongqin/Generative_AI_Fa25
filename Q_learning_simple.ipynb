{
  "nbformat": 4,
  "nbformat_minor": 0,
  "metadata": {
    "colab": {
      "provenance": [],
      "authorship_tag": "ABX9TyPZvaJXWn0Oipfu/G4KDnqa",
      "include_colab_link": true
    },
    "kernelspec": {
      "name": "python3",
      "display_name": "Python 3"
    },
    "language_info": {
      "name": "python"
    }
  },
  "cells": [
    {
      "cell_type": "markdown",
      "metadata": {
        "id": "view-in-github",
        "colab_type": "text"
      },
      "source": [
        "<a href=\"https://colab.research.google.com/github/hongqin/Generative_AI_Fa25/blob/main/Q_learning_simple.ipynb\" target=\"_parent\"><img src=\"https://colab.research.google.com/assets/colab-badge.svg\" alt=\"Open In Colab\"/></a>"
      ]
    },
    {
      "cell_type": "code",
      "source": [
        "# chatGPT drafted, runs but seems to have no learning  20250707\n",
        "\n",
        "# Q-Learning on FrozenLake with Gym 0.26.2 (Colab-ready)\n",
        "\n",
        "\n",
        "# Install a compatible Gym version\n",
        "!pip install gym==0.26.2 > /dev/null\n",
        "\n",
        "import numpy as np\n",
        "\n",
        "# Patch numpy for Gym compatibility (numpy.bool8 removal fix)\n",
        "if not hasattr(np, 'bool8'):\n",
        "    np.bool8 = np.bool_\n",
        "\n",
        "import gym\n",
        "import random\n",
        "import matplotlib.pyplot as plt\n",
        "\n",
        "# Create FrozenLake environment (deterministic transitions)\n",
        "env = gym.make('FrozenLake-v1', is_slippery=False)\n",
        "\n",
        "# Initialize Q-table\n",
        "state_size = env.observation_space.n\n",
        "action_size = env.action_space.n\n",
        "Q = np.zeros((state_size, action_size))\n",
        "\n",
        "# Hyperparameters\n",
        "alpha = 0.8       # Learning rate\n",
        "gamma = 0.95      # Discount factor\n",
        "epsilon = 0.1     # Exploration rate\n",
        "episodes = 2000   # Number of training episodes\n",
        "max_steps = 100   # Max steps per episode\n",
        "\n",
        "# Store total rewards per episode\n",
        "rewards = []\n",
        "\n",
        "for ep in range(episodes):\n",
        "    state = env.reset()      # Initial state\n",
        "    total_reward = 0\n",
        "\n",
        "    for _ in range(max_steps):\n",
        "        # ε-greedy action selection\n",
        "        if random.random() < epsilon:\n",
        "            action = env.action_space.sample()  # Explore\n",
        "        else:\n",
        "            action = np.argmax(Q[state])        # Exploit\n",
        "\n",
        "        new_state, reward, done, info = env.step(action)\n",
        "\n",
        "        # Q-learning update: Q[s,a] += α*(r + γ*max_a'Q[s',a'] − Q[s,a])\n",
        "        best_next = np.max(Q[new_state])\n",
        "        Q[state, action] += alpha * (reward + gamma * best_next - Q[state, action])\n",
        "\n",
        "        state = new_state\n",
        "        total_reward += reward\n",
        "\n",
        "        if done:\n",
        "            break\n",
        "\n",
        "    rewards.append(total_reward)\n",
        "\n",
        "# Compute average reward per 100-episode block\n",
        "blocks = np.split(np.array(rewards), episodes / 100)\n",
        "avg_rewards = [blk.mean() for blk in blocks]\n",
        "\n",
        "# Plot learning curve\n",
        "plt.plot(avg_rewards, marker='o')\n",
        "plt.xlabel('Episode Block (100 episodes)')\n",
        "plt.ylabel('Average Reward')\n",
        "plt.title('Q-Learning on FrozenLake')\n",
        "plt.grid(True)\n",
        "plt.show()\n",
        "\n",
        "# Display learned Q-table\n",
        "print(\"Learned Q-table:\")\n",
        "print(Q)\n"
      ],
      "metadata": {
        "colab": {
          "base_uri": "https://localhost:8080/",
          "height": 903
        },
        "id": "7TAEsjT22MGU",
        "outputId": "16ecd8c0-6f0a-47bc-c3eb-3791f289a21c"
      },
      "execution_count": 2,
      "outputs": [
        {
          "output_type": "stream",
          "name": "stdout",
          "text": [
            "\u001b[31mERROR: pip's dependency resolver does not currently take into account all the packages that are installed. This behaviour is the source of the following dependency conflicts.\n",
            "dopamine-rl 4.1.2 requires gym<=0.25.2, but you have gym 0.26.2 which is incompatible.\u001b[0m\u001b[31m\n",
            "\u001b[0m"
          ]
        },
        {
          "output_type": "stream",
          "name": "stderr",
          "text": [
            "/usr/local/lib/python3.11/dist-packages/gym/core.py:317: DeprecationWarning: \u001b[33mWARN: Initializing wrapper in old step API which returns one bool instead of two. It is recommended to set `new_step_api=True` to use new step API. This will be the default behaviour in future.\u001b[0m\n",
            "  deprecation(\n",
            "/usr/local/lib/python3.11/dist-packages/gym/wrappers/step_api_compatibility.py:39: DeprecationWarning: \u001b[33mWARN: Initializing environment in old step API which returns one bool instead of two. It is recommended to set `new_step_api=True` to use new step API. This will be the default behaviour in future.\u001b[0m\n",
            "  deprecation(\n"
          ]
        },
        {
          "output_type": "display_data",
          "data": {
            "text/plain": [
              "<Figure size 640x480 with 1 Axes>"
            ],
            "image/png": "[encoded data removed]"
          },
          "metadata": {}
        },
        {
          "output_type": "stream",
          "name": "stdout",
          "text": [
            "Learned Q-table:\n",
            "[[0. 0. 0. 0.]\n",
            " [0. 0. 0. 0.]\n",
            " [0. 0. 0. 0.]\n",
            " [0. 0. 0. 0.]\n",
            " [0. 0. 0. 0.]\n",
            " [0. 0. 0. 0.]\n",
            " [0. 0. 0. 0.]\n",
            " [0. 0. 0. 0.]\n",
            " [0. 0. 0. 0.]\n",
            " [0. 0. 0. 0.]\n",
            " [0. 0. 0. 0.]\n",
            " [0. 0. 0. 0.]\n",
            " [0. 0. 0. 0.]\n",
            " [0. 0. 0. 0.]\n",
            " [0. 0. 0. 0.]\n",
            " [0. 0. 0. 0.]]\n"
          ]
        }
      ]
    }
  ]
}